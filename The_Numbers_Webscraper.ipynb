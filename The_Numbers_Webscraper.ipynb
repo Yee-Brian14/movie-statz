{
 "cells": [
  {
   "cell_type": "code",
   "execution_count": 8,
   "metadata": {},
   "outputs": [],
   "source": [
    "import requests\n",
    "from bs4 import BeautifulSoup as BS\n",
    "import config\n",
    "import mysql.connector\n",
    "from mysql.connector import errorcode\n",
    "from datetime import date, datetime, timedelta\n",
    "import time\n",
    "\n",
    "headers = {'user-agent':'Mozilla/5.0 (Macintosh; Intel Mac OS X 10_14_5) AppleWebKit/537.36 (KHTML, like Gecko) Chrome/75.0.3770.100 Safari/537.36'}\n",
    "numbers_root = 'https://www.the-numbers.com/movie/budgets/all'"
   ]
  },
  {
   "cell_type": "code",
   "execution_count": 2,
   "metadata": {},
   "outputs": [],
   "source": [
    "def connect_to_AWS():\n",
    "    cnx = mysql.connector.connect(\n",
    "        host = config.host,\n",
    "        user = config.user,\n",
    "        passwd = config.password\n",
    "    )\n",
    "    return cnx\n",
    "\n",
    "def close_connections():\n",
    "    cursor.close()\n",
    "    conn.close()\n",
    "    \n",
    "conn = connect_to_AWS()\n",
    "cursor = conn.cursor()\n",
    "db_name = 'Movies'"
   ]
  },
  {
   "cell_type": "code",
   "execution_count": 42,
   "metadata": {},
   "outputs": [],
   "source": [
    "close_connections()"
   ]
  },
  {
   "cell_type": "code",
   "execution_count": 3,
   "metadata": {},
   "outputs": [],
   "source": [
    "## Function to create new DB \n",
    "def create_database(cursor, database_name):\n",
    "    try:\n",
    "        cursor.execute(\n",
    "            \"CREATE DATABASE {} DEFAULT CHARACTER SET 'utf8'\".format(database_name))\n",
    "    except mysql.connector.Error as err:\n",
    "        ## Catch the error if an error occurs.\n",
    "        print(\"Failed creating database: {}\".format(err))\n",
    "        exit(1)\n",
    "\n",
    "## Try to use the database we are creating.\n",
    "## If we can't use it, then that means the database doesn't exist\n",
    "    ## Thus we create the database and switch over to it.\n",
    "try:\n",
    "    cursor.execute(\"USE {}\".format(db_name))\n",
    "except mysql.connector.Error as err:\n",
    "    print(\"Database {} does not exists.\".format(db_name))\n",
    "    if err.errno == errorcode.ER_BAD_DB_ERROR:\n",
    "        create_database(cursor, db_name)\n",
    "        print(\"Database {} created successfully.\".format(db_name))\n",
    "        conn.database = db_name\n",
    "    else:\n",
    "        print(err)\n",
    "        exit(1)\n",
    "        \n",
    "# Function to create tables from a dictionary of tables\n",
    "# dictionary will have the name of the table as the key and the query to create that table as the value\n",
    "def create_table(dict_of_tables):\n",
    "    for table_name in dict_of_tables:\n",
    "        table_query = dict_of_tables[table_name]\n",
    "        try:\n",
    "            print(\"Creating table {}: \".format(table_name), end='')\n",
    "            cursor.execute(table_query)\n",
    "        except mysql.connector.Error as err:\n",
    "            if err.errno == errorcode.ER_TABLE_EXISTS_ERROR:\n",
    "                print(\"already exists.\")\n",
    "            else:\n",
    "                print(err.msg)\n",
    "        else:\n",
    "            print(\"OK\")\n",
    "        \n",
    "def drop_tables():\n",
    "    cursor.execute(\"\"\"DROP TABLE mg_junction\"\"\")\n",
    "    cursor.execute(\"\"\"DROP TABLE movies\"\"\")\n",
    "    cursor.execute(\"\"\"DROP TABLE genres\"\"\")\n",
    "    conn.commit()"
   ]
  },
  {
   "cell_type": "code",
   "execution_count": 5,
   "metadata": {},
   "outputs": [],
   "source": [
    "TABLES = {}\n",
    "TABLES['movies'] = \"\"\"CREATE TABLE movies (\n",
    "        movieId INT NOT NULL AUTO_INCREMENT,\n",
    "        movieTitle varchar(255),\n",
    "        movieDomGross INT(10),\n",
    "        movieIntGross INT(10),\n",
    "        movieBudget INT(10),\n",
    "        movieRunTime REAL,\n",
    "        movieAgeRating varchar(10),\n",
    "        movieReleaseDate DATE,\n",
    "        movieProdMethod varchar(30),\n",
    "        movieGenre varchar(20),\n",
    "        movieType varchar(30),\n",
    "        PRIMARY KEY (movieId),\n",
    "        UNIQUE KEY(movieTitle)\n",
    "    ) ENGINE=InnoDB\"\"\""
   ]
  },
  {
   "cell_type": "code",
   "execution_count": 4,
   "metadata": {},
   "outputs": [],
   "source": [
    "drop_tables()"
   ]
  },
  {
   "cell_type": "code",
   "execution_count": 6,
   "metadata": {},
   "outputs": [
    {
     "name": "stdout",
     "output_type": "stream",
     "text": [
      "Creating table movies: OK\n"
     ]
    }
   ],
   "source": [
    "create_table(TABLES)\n",
    "# cursor.execute(\"\"\"ALTER TABLE `Movies`.`movies` AUTO_INCREMENT = 101;\"\"\")\n",
    "conn.commit()"
   ]
  },
  {
   "cell_type": "code",
   "execution_count": 7,
   "metadata": {},
   "outputs": [],
   "source": [
    "def get_soup(url):\n",
    "    try:\n",
    "        page = requests.get(url, timeout=5)\n",
    "    # include code to do status check\n",
    "        if page.status_code != 200:\n",
    "            print(page.status_code)\n",
    "        else:\n",
    "#             print(page.status_code)\n",
    "            soup = BS(page.content,'html.parser')\n",
    "    except requests.ConnectionError as e:\n",
    "        print(\"OOPS!! Connection Error. Make sure you are connected to Internet. Technical Details given below.\\n\")\n",
    "        print(str(e))\n",
    "    except requests.Timeout as e:\n",
    "        print(\"OOPS!! Timeout Error\")\n",
    "        print(str(e))\n",
    "    except requests.RequestException as e:\n",
    "        print(\"OOPS!! General Error\")\n",
    "        print(str(e))\n",
    "    except KeyboardInterrupt:\n",
    "        print(\"Someone closed the program\") \n",
    "        \n",
    "    \n",
    "    time.sleep(1)\n",
    "    return soup"
   ]
  },
  {
   "cell_type": "code",
   "execution_count": 110,
   "metadata": {},
   "outputs": [],
   "source": [
    "def str_to_int(string):\n",
    "    return int(string.replace(',','').strip('$'))\n",
    "    \n",
    "def str_to_date(string):\n",
    "    return datetime.strptime(string,\"%b %d, %Y\").date()\n",
    "\n",
    "def str_to_time(string):\n",
    "    return (int(string.strip('minutes')))\n",
    "    \n",
    "def get_from_pages(page_start,page_end):\n",
    "    url = numbers_root\n",
    "    for page in ['/'+str(num)+'01' for num in range(page_start-1,page_end)]:\n",
    "        movie_data = get_movie_tuples(url+page)\n",
    "        for movie in movie_data:\n",
    "            print(movie_url)\n",
    "            add_movie(movie[1])\n",
    "\n",
    "def get_movie_tuples(page_url):\n",
    "    movie_tuples = []\n",
    "    soup = get_soup(page_url)\n",
    "    movie_fins = soup.select('tr td.data')\n",
    "    movie_urls = soup.select('tr td b a')\n",
    "    movie_release = soup.select('tr td a')\n",
    "#     print(movie_release)\n",
    "#     print(movie_urls)\n",
    "    for i in range(100):\n",
    "        ind = i*4\n",
    "        ind2 = i*2\n",
    "        movie_tuples.append((str_to_date(movie_release[ind2].text),\n",
    "                             movie_urls[i]['href'],\n",
    "                             str_to_int(movie_fins[ind+1].text),\n",
    "                             str_to_int(movie_fins[ind+2].text),\n",
    "                             str_to_int(movie_fins[ind+3].text)))\n",
    "    return movie_tuples\n",
    "#     return [(movie_row['href'],) for movie_row in movie_rows]\n",
    "\n",
    "def add_movie(movie_url):\n",
    "    try:\n",
    "#         url = numbers_root + movie_url\n",
    "#         print(url)\n",
    "        pass\n",
    "    except:\n",
    "        pass"
   ]
  },
  {
   "cell_type": "code",
   "execution_count": 109,
   "metadata": {},
   "outputs": [
    {
     "name": "stdout",
     "output_type": "stream",
     "text": [
      "(datetime.date(2009, 12, 18), '/movie/Avatar#tab=summary', 425000000, 760507625, 2789705275)\n",
      "(datetime.date(2011, 5, 20), '/movie/Pirates-of-the-Caribbean-On-Stranger-Tides#tab=summary', 410600000, 241063875, 1045663875)\n",
      "(datetime.date(2019, 4, 26), '/movie/Avengers-Endgame-(2019)#tab=summary', 400000000, 856706929, 2793057480)\n",
      "(datetime.date(2019, 6, 7), '/movie/Dark-Phoenix-(2019)#tab=summary', 350000000, 65609445, 246300941)\n",
      "(datetime.date(2015, 5, 1), '/movie/Avengers-Age-of-Ultron#tab=summary', 330600000, 459005868, 1403013963)\n",
      "(datetime.date(2017, 12, 15), '/movie/Star-Wars-Ep-VIII-The-Last-Jedi#tab=summary', 317000000, 620181382, 1316721747)\n",
      "(datetime.date(2015, 12, 18), '/movie/Star-Wars-Ep-VII-The-Force-Awakens#tab=summary', 306000000, 936662225, 2053311220)\n",
      "(datetime.date(2018, 4, 27), '/movie/Avengers-Infinity-War#tab=summary', 300000000, 678815482, 2048134200)\n",
      "(datetime.date(2007, 5, 24), '/movie/Pirates-of-the-Caribbean-At-Worlds-End#tab=summary', 300000000, 309420425, 963420425)\n",
      "(datetime.date(2017, 11, 17), '/movie/Justice-League-(2017)#tab=summary', 300000000, 229024295, 655945209)\n",
      "(datetime.date(2015, 11, 6), '/movie/Spectre#tab=summary', 300000000, 200074175, 879620923)\n",
      "(datetime.date(2012, 7, 20), '/movie/Dark-Knight-Rises-The#tab=summary', 275000000, 448139099, 1084439099)\n",
      "(datetime.date(2018, 5, 25), '/movie/Solo-A-Star-Wars-Story#tab=summary', 275000000, 213767512, 393151347)\n",
      "(datetime.date(2013, 7, 2), '/movie/Lone-Ranger-The#tab=summary', 275000000, 89302115, 260002115)\n",
      "(datetime.date(2012, 3, 9), '/movie/John-Carter-of-Mars#tab=summary', 275000000, 73058679, 282778100)\n",
      "(datetime.date(2010, 11, 24), '/movie/Tangled#tab=summary', 260000000, 200821936, 586477240)\n",
      "(datetime.date(2007, 5, 4), '/movie/Spider-Man-3#tab=summary', 258000000, 336530303, 894860230)\n",
      "(datetime.date(2016, 5, 6), '/movie/Captain-America-Civil-War#tab=summary', 250000000, 408084349, 1140069413)\n",
      "(datetime.date(2016, 3, 25), '/movie/Batman-v-Superman-Dawn-of-Justice#tab=summary', 250000000, 330360194, 867500281)\n",
      "(datetime.date(2012, 12, 14), '/movie/Hobbit-An-Unexpected-Journey-The#tab=summary', 250000000, 303003568, 1017003568)\n",
      "(datetime.date(2009, 7, 15), '/movie/Harry-Potter-and-the-Half-Blood-Prince#tab=summary', 250000000, 302089278, 935213767)\n",
      "(datetime.date(2013, 12, 13), '/movie/Hobbit-The-Desolation-of-Smaug-The#tab=summary', 250000000, 258366855, 960366855)\n",
      "(datetime.date(2014, 12, 17), '/movie/Hobbit-The-Battle-of-the-Five-Armies-The#tab=summary', 250000000, 255119788, 945577621)\n",
      "(datetime.date(2017, 4, 14), '/movie/Fate-of-the-Furious-The#tab=summary', 250000000, 225764765, 1234846267)\n",
      "(datetime.date(2006, 6, 28), '/movie/Superman-Returns#tab=summary', 232000000, 200120000, 374085065)\n",
      "(datetime.date(2017, 5, 26), '/movie/Pirates-of-the-Caribbean-Dead-Men-Tell-No-Tales#tab=summary', 230000000, 172558876, 788241137)\n",
      "(datetime.date(2008, 11, 14), '/movie/Quantum-of-Solace#tab=summary', 230000000, 169368427, 591692078)\n",
      "(datetime.date(2012, 5, 4), '/movie/Avengers-The-(2012)#tab=summary', 225000000, 623279547, 1517935897)\n",
      "(datetime.date(2006, 7, 7), '/movie/Pirates-of-the-Caribbean-Dead-Mans-Chest#tab=summary', 225000000, 423315812, 1066215812)\n",
      "(datetime.date(2013, 6, 14), '/movie/Man-of-Steel#tab=summary', 225000000, 291045518, 667999518)\n",
      "(datetime.date(2008, 5, 16), '/movie/Chronicles-of-Narnia-Prince-Caspian-The#tab=summary', 225000000, 141621490, 417341288)\n",
      "(datetime.date(2020, 7, 17), '/movie/Tenet-(2020)#tab=summary', 224000000, 0, 0)\n",
      "(datetime.date(2012, 7, 3), '/movie/Amazing-Spider-Man-The#tab=summary', 220000000, 262030663, 757890267)\n",
      "(datetime.date(2012, 5, 18), '/movie/Battleship#tab=summary', 220000000, 65233400, 313477717)\n",
      "(datetime.date(2017, 6, 21), '/movie/Transformers-The-Last-Knight#tab=summary', 217000000, 130168683, 602893340)\n",
      "(datetime.date(2015, 6, 12), '/movie/Jurassic-World#tab=summary', 215000000, 652270625, 1648854864)\n",
      "(datetime.date(2012, 5, 25), '/movie/Men-in-Black-3#tab=summary', 215000000, 179020854, 654213485)\n",
      "(datetime.date(2009, 6, 24), '/movie/Transformers-Revenge-of-the-Fallen#tab=summary', 210000000, 402111870, 836519699)\n",
      "(datetime.date(2014, 6, 27), '/movie/Transformers-Age-of-Extinction#tab=summary', 210000000, 245439076, 1104039076)\n",
      "(datetime.date(2006, 5, 26), '/movie/X-Men-The-Last-Stand#tab=summary', 210000000, 234362462, 459260946)\n",
      "(datetime.date(2010, 5, 14), '/movie/Robin-Hood-(2010)#tab=summary', 210000000, 105487148, 322459006)\n",
      "(datetime.date(2005, 12, 14), '/movie/King-Kong-(2005)#tab=summary', 207000000, 218080025, 550517357)\n",
      "(datetime.date(2007, 12, 7), '/movie/His-Dark-Materials-The-Golden-Compass#tab=summary', 205000000, 70107728, 367262558)\n",
      "(datetime.date(2018, 2, 16), '/movie/Black-Panther#tab=summary', 200000000, 700059566, 1348258224)\n",
      "(datetime.date(1997, 12, 19), '/movie/Titanic-(1997)#tab=summary', 200000000, 659363944, 2208208395)\n",
      "(datetime.date(2018, 6, 15), '/movie/Incredibles-2#tab=summary', 200000000, 608581744, 1242515988)\n",
      "(datetime.date(2016, 12, 16), '/movie/Rogue-One-A-Star-Wars-Story#tab=summary', 200000000, 532177324, 1049102856)\n",
      "(datetime.date(2016, 6, 17), '/movie/Finding-Dory#tab=summary', 200000000, 486295561, 1021215193)\n",
      "(datetime.date(2010, 6, 18), '/movie/Toy-Story-3#tab=summary', 200000000, 415004880, 1068879522)\n",
      "(datetime.date(2013, 5, 3), '/movie/Iron-Man-3#tab=summary', 200000000, 408992272, 1215392272)\n",
      "(datetime.date(2017, 5, 5), '/movie/Guardians-of-the-Galaxy-Vol-2#tab=summary', 200000000, 389813101, 862316233)\n",
      "(datetime.date(2004, 6, 30), '/movie/Spider-Man-2#tab=summary', 200000000, 373524485, 795110670)\n",
      "(datetime.date(2010, 3, 5), '/movie/Alice-in-Wonderland-(2010)#tab=summary', 200000000, 334191110, 1025491110)\n",
      "(datetime.date(2012, 11, 8), '/movie/Skyfall#tab=summary', 200000000, 304360277, 1110526981)\n",
      "(datetime.date(2013, 6, 21), '/movie/Monsters-University#tab=summary', 200000000, 268488329, 743588329)\n",
      "(datetime.date(2013, 3, 8), '/movie/Oz-The-Great-and-Powerful#tab=summary', 200000000, 234770996, 490359051)\n",
      "(datetime.date(2014, 5, 23), '/movie/X-Men-Days-of-Future-Past#tab=summary', 200000000, 233921534, 747862775)\n",
      "(datetime.date(2014, 5, 2), '/movie/Amazing-Spider-Man-2-The#tab=summary', 200000000, 202853933, 708996336)\n",
      "(datetime.date(2011, 6, 24), '/movie/Cars-2#tab=summary', 200000000, 191450875, 560155383)\n",
      "(datetime.date(2010, 12, 17), '/movie/Tron-Legacy#tab=summary', 200000000, 172062763, 400062763)\n",
      "(datetime.date(2009, 11, 13), '/movie/2012#tab=summary', 200000000, 166112167, 757677748)\n",
      "(datetime.date(2018, 11, 16), '/movie/Fantastic-Beasts-The-Crimes-of-Grindelwald-(2018)#tab=summary', 200000000, 159555901, 652220086)\n",
      "(datetime.date(2009, 5, 21), '/movie/Terminator-Salvation#tab=summary', 200000000, 125322469, 365491792)\n",
      "(datetime.date(2011, 6, 17), '/movie/Green-Lantern-(2011)#tab=summary', 200000000, 116601172, 219535492)\n",
      "(datetime.date(2010, 5, 28), '/movie/Prince-of-Persia-Sands-of-Time#tab=summary', 200000000, 90759676, 336359676)\n",
      "(datetime.date(2011, 6, 29), '/movie/Transformers-Dark-of-the-Moon#tab=summary', 195000000, 352390543, 1123790543)\n",
      "(datetime.date(2017, 6, 9), '/movie/Mummy-The-(2017)#tab=summary', 195000000, 80101125, 409953905)\n",
      "(datetime.date(2013, 3, 1), '/movie/Jack-the-Giant-Slayer#tab=summary', 195000000, 65187603, 197687603)\n",
      "(datetime.date(2015, 4, 3), '/movie/Furious-7#tab=summary', 190000000, 353007020, 1518722794)\n",
      "(datetime.date(2013, 5, 16), '/movie/Star-Trek-Into-Darkness#tab=summary', 190000000, 228778661, 467381584)\n",
      "(datetime.date(2013, 6, 21), '/movie/World-War-Z#tab=summary', 190000000, 202359711, 531514650)\n",
      "(datetime.date(2013, 5, 10), '/movie/Great-Gatsby-The-(2011)#tab=summary', 190000000, 144840419, 351040419)\n",
      "(datetime.date(2009, 11, 6), '/movie/Disneys-A-Christmas-Carol#tab=summary', 190000000, 137855863, 315709697)\n",
      "(datetime.date(2013, 7, 12), '/movie/Pacific-Rim#tab=summary', 190000000, 101802906, 411002906)\n",
      "(datetime.date(2015, 11, 25), '/movie/Good-Dinosaur-The#tab=summary', 187500000, 123087120, 333771037)\n",
      "(datetime.date(2008, 5, 2), '/movie/Iron-Man#tab=summary', 186000000, 318604126, 585171547)\n",
      "(datetime.date(2008, 7, 18), '/movie/Dark-Knight-The#tab=summary', 185000000, 533720947, 1001996207)\n",
      "(datetime.date(2008, 5, 22), '/movie/Indiana-Jones-and-the-Kingdom-of-the-Crystal-Skull#tab=summary', 185000000, 317101119, 786635413)\n",
      "(datetime.date(2012, 6, 22), '/movie/Brave#tab=summary', 185000000, 237282182, 554606532)\n",
      "(datetime.date(2017, 3, 10), '/movie/Kong-Skull-Island#tab=summary', 185000000, 168052812, 561072059)\n",
      "(datetime.date(2016, 7, 22), '/movie/Star-Trek-Beyond#tab=summary', 185000000, 158848340, 335802233)\n",
      "(datetime.date(2017, 10, 6), '/movie/Blade-Runner-2049#tab=summary', 185000000, 92054159, 259357408)\n",
      "(datetime.date(2019, 5, 24), '/movie/Aladdin-(2019)#tab=summary', 182000000, 346636294, 1009888000)\n",
      "(datetime.date(2017, 11, 3), '/movie/Thor-Ragnarok#tab=summary', 180000000, 315058289, 846980024)\n",
      "(datetime.date(2005, 12, 9), '/movie/Chronicles-of-Narnia-The-Lion-the-Witch-and-the-Wardrobe-The#tab=summary', 180000000, 291710957, 720539572)\n",
      "(datetime.date(2014, 5, 30), '/movie/Maleficent#tab=summary', 180000000, 241407328, 758536735)\n",
      "(datetime.date(2016, 11, 18), '/movie/Fantastic-Beasts-and-Where-to-Find-Them#tab=summary', 180000000, 234037575, 802402853)\n",
      "(datetime.date(2008, 6, 27), '/movie/WALL-E#tab=summary', 180000000, 223808164, 532508025)\n",
      "(datetime.date(2007, 8, 10), '/movie/Rush-Hour-3#tab=summary', 180000000, 140125968, 256585882)\n",
      "(datetime.date(2016, 7, 1), '/movie/Legend-of-Tarzan-The#tab=summary', 180000000, 126643061, 348902025)\n",
      "(datetime.date(2011, 11, 23), '/movie/Hugo#tab=summary', 180000000, 73864507, 180047784)\n",
      "(datetime.date(2017, 7, 21), '/movie/Valerian-and-the-City-of-a-Thousand-Planets-(France)#tab=summary', 180000000, 40479370, 215098356)\n",
      "(datetime.date(2015, 2, 6), '/movie/Jupiter-Ascending#tab=summary', 179000000, 47482519, 181982519)\n",
      "(datetime.date(2018, 7, 27), '/movie/Mission-Impossible-Fallout#tab=summary', 178000000, 220159104, 787456552)\n",
      "(datetime.date(2016, 5, 27), '/movie/X-Men-Apocalypse-(2016)#tab=summary', 178000000, 155442489, 542537546)\n",
      "(datetime.date(2018, 8, 10), '/movie/Meg-The#tab=summary', 178000000, 145443742, 529530715)\n",
      "(datetime.date(2014, 6, 6), '/movie/Edge-of-Tomorrow#tab=summary', 178000000, 100206256, 370541256)\n",
      "(datetime.date(2019, 3, 8), '/movie/Captain-Marvel-(2019)#tab=summary', 175000000, 426829839, 1123365437)\n",
      "(datetime.date(2016, 4, 15), '/movie/Jungle-Book-The-(2016)#tab=summary', 175000000, 364001123, 962854547)\n",
      "(datetime.date(2015, 6, 19), '/movie/Inside-Out-(2015)#tab=summary', 175000000, 356461711, 854235992)\n"
     ]
    }
   ],
   "source": [
    "get_from_pages(1,1)"
   ]
  },
  {
   "cell_type": "code",
   "execution_count": 106,
   "metadata": {},
   "outputs": [
    {
     "name": "stdout",
     "output_type": "stream",
     "text": [
      "Creating table movies: OK\n",
      "Creating table genres: OK\n",
      "Creating table mg_junction: OK\n"
     ]
    }
   ],
   "source": [
    "drop_tables()\n",
    "create_table(TABLES)"
   ]
  },
  {
   "cell_type": "code",
   "execution_count": 17,
   "metadata": {},
   "outputs": [
    {
     "name": "stdout",
     "output_type": "stream",
     "text": [
      "856576358\n",
      "2019-03-08\n",
      "162\n"
     ]
    }
   ],
   "source": [
    "# print(string_to_int('$20 million'))\n",
    "print(str_to_int('$856,576,358'))\n",
    "print(str_to_date('Mar 8, 2019'))\n",
    "print(str_to_time('162 minutes'))"
   ]
  },
  {
   "cell_type": "code",
   "execution_count": null,
   "metadata": {},
   "outputs": [],
   "source": []
  }
 ],
 "metadata": {
  "kernelspec": {
   "display_name": "Python 3",
   "language": "python",
   "name": "python3"
  },
  "language_info": {
   "codemirror_mode": {
    "name": "ipython",
    "version": 3
   },
   "file_extension": ".py",
   "mimetype": "text/x-python",
   "name": "python",
   "nbconvert_exporter": "python",
   "pygments_lexer": "ipython3",
   "version": "3.7.3"
  }
 },
 "nbformat": 4,
 "nbformat_minor": 2
}
