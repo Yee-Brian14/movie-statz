{
 "cells": [
  {
   "cell_type": "code",
   "execution_count": 9,
   "metadata": {},
   "outputs": [],
   "source": [
    "import requests\n",
    "from bs4 import BeautifulSoup as BS\n",
    "import config\n",
    "import mysql.connector\n",
    "from mysql.connector import errorcode\n",
    "from datetime import date, datetime, timedelta\n",
    "import time\n",
    "\n",
    "headers = {'user-agent':'Mozilla/5.0 (Macintosh; Intel Mac OS X 10_14_5) AppleWebKit/537.36 (KHTML, like Gecko) Chrome/75.0.3770.100 Safari/537.36'}\n",
    "numbers_root = 'https://www.the-numbers.com'\n"
   ]
  },
  {
   "cell_type": "code",
   "execution_count": 2,
   "metadata": {},
   "outputs": [],
   "source": [
    "def connect_to_AWS():\n",
    "    cnx = mysql.connector.connect(\n",
    "        host = config.host,\n",
    "        user = config.user,\n",
    "        passwd = config.password\n",
    "    )\n",
    "    return cnx\n",
    "\n",
    "def close_connections():\n",
    "    cursor.close()\n",
    "    conn.close()\n",
    "    \n",
    "conn = connect_to_AWS()\n",
    "cursor = conn.cursor()\n",
    "db_name = 'Movies'"
   ]
  },
  {
   "cell_type": "code",
   "execution_count": 42,
   "metadata": {},
   "outputs": [],
   "source": [
    "close_connections()"
   ]
  },
  {
   "cell_type": "code",
   "execution_count": 3,
   "metadata": {},
   "outputs": [],
   "source": [
    "## Function to create new DB \n",
    "def create_database(cursor, database_name):\n",
    "    try:\n",
    "        cursor.execute(\n",
    "            \"CREATE DATABASE {} DEFAULT CHARACTER SET 'utf8'\".format(database_name))\n",
    "    except mysql.connector.Error as err:\n",
    "        ## Catch the error if an error occurs.\n",
    "        print(\"Failed creating database: {}\".format(err))\n",
    "        exit(1)\n",
    "\n",
    "## Try to use the database we are creating.\n",
    "## If we can't use it, then that means the database doesn't exist\n",
    "    ## Thus we create the database and switch over to it.\n",
    "try:\n",
    "    cursor.execute(\"USE {}\".format(db_name))\n",
    "except mysql.connector.Error as err:\n",
    "    print(\"Database {} does not exists.\".format(db_name))\n",
    "    if err.errno == errorcode.ER_BAD_DB_ERROR:\n",
    "        create_database(cursor, db_name)\n",
    "        print(\"Database {} created successfully.\".format(db_name))\n",
    "        conn.database = db_name\n",
    "    else:\n",
    "        print(err)\n",
    "        exit(1)\n",
    "        \n",
    "# Function to create tables from a dictionary of tables\n",
    "# dictionary will have the name of the table as the key and the query to create that table as the value\n",
    "def create_table(dict_of_tables):\n",
    "    for table_name in dict_of_tables:\n",
    "        table_query = dict_of_tables[table_name]\n",
    "        try:\n",
    "            print(\"Creating table {}: \".format(table_name), end='')\n",
    "            cursor.execute(table_query)\n",
    "        except mysql.connector.Error as err:\n",
    "            if err.errno == errorcode.ER_TABLE_EXISTS_ERROR:\n",
    "                print(\"already exists.\")\n",
    "            else:\n",
    "                print(err.msg)\n",
    "        else:\n",
    "            print(\"OK\")\n",
    "        \n",
    "def drop_tables():\n",
    "    cursor.execute(\"\"\"DROP TABLE mg_junction\"\"\")\n",
    "    cursor.execute(\"\"\"DROP TABLE movies\"\"\")\n",
    "    cursor.execute(\"\"\"DROP TABLE genres\"\"\")\n",
    "    conn.commit()"
   ]
  },
  {
   "cell_type": "code",
   "execution_count": 4,
   "metadata": {},
   "outputs": [],
   "source": [
    "TABLES = {}\n",
    "TABLES['movies'] = \"\"\"CREATE TABLE movies (\n",
    "        movieId INT NOT NULL AUTO_INCREMENT,\n",
    "        movieTitle varchar(255),\n",
    "        movieDomGross INT(10),\n",
    "        movieIntGross INT(10),\n",
    "        movieBudget INT(10),\n",
    "        movieRunTime REAL,\n",
    "        movieAgeRating varchar(10),\n",
    "        movieReleaseDate DATE,\n",
    "        movieProdMethod varchar(30),\n",
    "        movieGenre varchar(20),\n",
    "        movieType varchar(30),\n",
    "        PRIMARY KEY (movieId),\n",
    "        UNIQUE KEY(movieTitle)\n",
    "    ) ENGINE=InnoDB\"\"\""
   ]
  },
  {
   "cell_type": "code",
   "execution_count": 4,
   "metadata": {},
   "outputs": [],
   "source": [
    "drop_tables()"
   ]
  },
  {
   "cell_type": "code",
   "execution_count": 5,
   "metadata": {},
   "outputs": [
    {
     "name": "stdout",
     "output_type": "stream",
     "text": [
      "Creating table movies: already exists.\n"
     ]
    }
   ],
   "source": [
    "create_table(TABLES)\n",
    "# cursor.execute(\"\"\"ALTER TABLE `Movies`.`movies` AUTO_INCREMENT = 101;\"\"\")\n",
    "conn.commit()"
   ]
  },
  {
   "cell_type": "code",
   "execution_count": 6,
   "metadata": {},
   "outputs": [],
   "source": [
    "def get_soup(url):\n",
    "    try:\n",
    "        page = requests.get(url, timeout=5)\n",
    "    # include code to do status check\n",
    "        if page.status_code != 200:\n",
    "            print(page.status_code)\n",
    "        else:\n",
    "#             print(page.status_code)\n",
    "            soup = BS(page.content,'html.parser')\n",
    "    except requests.ConnectionError as e:\n",
    "        print(\"OOPS!! Connection Error. Make sure you are connected to Internet. Technical Details given below.\\n\")\n",
    "        print(str(e))\n",
    "    except requests.Timeout as e:\n",
    "        print(\"OOPS!! Timeout Error\")\n",
    "        print(str(e))\n",
    "    except requests.RequestException as e:\n",
    "        print(\"OOPS!! General Error\")\n",
    "        print(str(e))\n",
    "    except KeyboardInterrupt:\n",
    "        print(\"Someone closed the program\") \n",
    "        \n",
    "    \n",
    "    time.sleep(1)\n",
    "    return soup"
   ]
  },
  {
   "cell_type": "code",
   "execution_count": 59,
   "metadata": {},
   "outputs": [],
   "source": [
    "def str_to_int(string):\n",
    "    return int(string.replace(',','').strip('$'))\n",
    "    \n",
    "def str_to_date(string):\n",
    "    return datetime.strptime(string,\"%b %d, %Y\").date()\n",
    "\n",
    "def str_to_time(string):\n",
    "    return (int(string.strip('minutes')))\n",
    "    \n",
    "def get_from_pages(page_start,page_end):\n",
    "    url = numbers_root+\"/movie/budgets/all\"\n",
    "    for page in ['/'+str(num)+'01' for num in range(page_start-1,page_end)]:\n",
    "        movie_rows = get_movie_rows(url+page)\n",
    "        for movie_row in movie_rows[:2]:\n",
    "#             print(movie_row)\n",
    "            movie_info = get_movie_info(movie_row[1])\n",
    "\n",
    "def get_movie_rows(page_url):\n",
    "    movie_tuples = []\n",
    "    soup = get_soup(page_url)\n",
    "    movie_fins = soup.select('tr td.data')\n",
    "    movie_exts = soup.select('tr td b a')\n",
    "    movie_release = soup.select('tr td a')\n",
    "#     print(movie_release)\n",
    "#     print(movie_urls)\n",
    "    for i in range(100):\n",
    "        ind = i*4\n",
    "        ind2 = i*2\n",
    "        movie_tuples.append((str_to_date(movie_release[ind2].text),\n",
    "                             movie_exts[i]['href'],\n",
    "                             str_to_int(movie_fins[ind+1].text),\n",
    "                             str_to_int(movie_fins[ind+2].text),\n",
    "                             str_to_int(movie_fins[ind+3].text)))\n",
    "    return movie_tuples\n",
    "#     return [(movie_row['href'],) for movie_row in movie_rows]\n",
    "\n",
    "## Get runtime, MPAA Rating, Production method, genre, and creative type\n",
    "def get_movie_info(movie_ext):\n",
    "#     try:\n",
    "    url = numbers_root + movie_ext\n",
    "    soup = get_soup(url)\n",
    "    all_html = soup.select('tr td a')\n",
    "    \n",
    "    runtime = rating = prod_method = genre = c_type = None\n",
    "    for html in all_html:\n",
    "        if (rating and prod_method and genre and c_type):\n",
    "            break\n",
    "            \n",
    "        elif html['href'].startswith('/market/mpaa-rating/'):\n",
    "            rating = html.text\n",
    "\n",
    "        elif html['href'].startswith('/market/genre/'):\n",
    "            genre = html.text\n",
    "\n",
    "        elif html['href'].startswith('/market/production-method/'):\n",
    "            prod_method = html.text\n",
    "\n",
    "        elif html['href'].startswith('/market/creative-type/'):\n",
    "            c_type = html.text\n",
    "\n",
    "    return (runtime, rating, prod_method, genre, c_type)\n",
    "#     except:\n",
    "#         print('failed movie into')"
   ]
  },
  {
   "cell_type": "code",
   "execution_count": 60,
   "metadata": {},
   "outputs": [
    {
     "name": "stdout",
     "output_type": "stream",
     "text": [
      "PG-13\n",
      "Action\n",
      "Animation/Live Action\n",
      "Science Fiction\n",
      "found all\n",
      "PG-13\n",
      "Adventure\n",
      "Live Action\n",
      "Fantasy\n",
      "found all\n"
     ]
    }
   ],
   "source": [
    "get_from_pages(1,1)"
   ]
  },
  {
   "cell_type": "code",
   "execution_count": 106,
   "metadata": {},
   "outputs": [
    {
     "name": "stdout",
     "output_type": "stream",
     "text": [
      "Creating table movies: OK\n",
      "Creating table genres: OK\n",
      "Creating table mg_junction: OK\n"
     ]
    }
   ],
   "source": [
    "drop_tables()\n",
    "create_table(TABLES)"
   ]
  },
  {
   "cell_type": "code",
   "execution_count": 17,
   "metadata": {},
   "outputs": [
    {
     "name": "stdout",
     "output_type": "stream",
     "text": [
      "856576358\n",
      "2019-03-08\n",
      "162\n"
     ]
    }
   ],
   "source": [
    "# print(string_to_int('$20 million'))\n",
    "print(str_to_int('$856,576,358'))\n",
    "print(str_to_date('Mar 8, 2019'))\n",
    "print(str_to_time('162 minutes'))"
   ]
  },
  {
   "cell_type": "code",
   "execution_count": null,
   "metadata": {},
   "outputs": [],
   "source": []
  }
 ],
 "metadata": {
  "kernelspec": {
   "display_name": "Python 3",
   "language": "python",
   "name": "python3"
  },
  "language_info": {
   "codemirror_mode": {
    "name": "ipython",
    "version": 3
   },
   "file_extension": ".py",
   "mimetype": "text/x-python",
   "name": "python",
   "nbconvert_exporter": "python",
   "pygments_lexer": "ipython3",
   "version": "3.7.3"
  }
 },
 "nbformat": 4,
 "nbformat_minor": 2
}
